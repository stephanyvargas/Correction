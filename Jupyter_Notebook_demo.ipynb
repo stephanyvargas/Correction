{
  "nbformat": 4,
  "nbformat_minor": 0,
  "metadata": {
    "kernelspec": {
      "display_name": "Python 3",
      "language": "python",
      "name": "python3"
    },
    "language_info": {
      "codemirror_mode": {
        "name": "ipython",
        "version": 3
      },
      "file_extension": ".py",
      "mimetype": "text/x-python",
      "name": "python",
      "nbconvert_exporter": "python",
      "pygments_lexer": "ipython3",
      "version": "3.6.7"
    },
    "colab": {
      "name": "Jupyter-Notebook_demo.ipynb",
      "provenance": [],
      "include_colab_link": true
    }
  },
  "cells": [
    {
      "cell_type": "markdown",
      "metadata": {
        "id": "view-in-github",
        "colab_type": "text"
      },
      "source": [
        "<a href=\"https://colab.research.google.com/github/stephanyvargas/Correction/blob/master/Jupyter_Notebook_demo.ipynb\" target=\"_parent\"><img src=\"https://colab.research.google.com/assets/colab-badge.svg\" alt=\"Open In Colab\"/></a>"
      ]
    },
    {
      "cell_type": "markdown",
      "metadata": {
        "id": "ftD1dTV1q8x2",
        "colab_type": "text"
      },
      "source": [
        "# Demonstration of using Jupyter Notebook\n",
        "## How to use Markdown markup language in a notebook\n",
        "\n",
        "This \"cell\" is used for the documentation of a Python code. Markdown markup language is useful for adding formatting elements to plain text. You can use like this:\n",
        "\n",
        "1. This is numbered list\n",
        "2. two\n",
        "3. three\n",
        "\n",
        "or\n",
        "\n",
        "* 他のリスト\n",
        "* リスト２\n",
        "* リスト３\n",
        "\n",
        "Emphasize like **this** or *this* .\n",
        "\n",
        "Code syntax highlight like this:\n",
        "\n",
        "```python\n",
        "    a=1.0\n",
        "    b=1.0\n",
        "    c=2.0\n",
        "    d = a**b+c\n",
        "```\n",
        "\n",
        "Execute by \"Shift+Enter\" keys."
      ]
    },
    {
      "cell_type": "markdown",
      "metadata": {
        "id": "WmjGre2Hq8x4",
        "colab_type": "text"
      },
      "source": [
        "## Basic Python program"
      ]
    },
    {
      "cell_type": "code",
      "metadata": {
        "id": "dgllV_uqq8x5",
        "colab_type": "code",
        "colab": {},
        "outputId": "8d6631c3-9801-4a8e-f477-31661d9c1009"
      },
      "source": [
        "print('Hello World!')"
      ],
      "execution_count": null,
      "outputs": [
        {
          "output_type": "stream",
          "text": [
            "Hello World!\n"
          ],
          "name": "stdout"
        }
      ]
    },
    {
      "cell_type": "code",
      "metadata": {
        "id": "VyFIxLOrq8x-",
        "colab_type": "code",
        "colab": {},
        "outputId": "17db9c92-2203-437a-a1c4-4b377df3c8ac"
      },
      "source": [
        "a = 3.0\n",
        "b = 5.0\n",
        "c = -30.0\n",
        "print(a**b+c)"
      ],
      "execution_count": null,
      "outputs": [
        {
          "output_type": "stream",
          "text": [
            "213.0\n"
          ],
          "name": "stdout"
        }
      ]
    },
    {
      "cell_type": "markdown",
      "metadata": {
        "id": "r6MfJCGpq8yB",
        "colab_type": "text"
      },
      "source": [
        "## Graph"
      ]
    },
    {
      "cell_type": "code",
      "metadata": {
        "id": "Q36czeXEq8yC",
        "colab_type": "code",
        "colab": {}
      },
      "source": [
        "import numpy as np\n",
        "import matplotlib.pyplot as plt"
      ],
      "execution_count": 2,
      "outputs": []
    },
    {
      "cell_type": "code",
      "metadata": {
        "id": "nFHIIfdRq8yF",
        "colab_type": "code",
        "colab": {
          "base_uri": "https://localhost:8080/",
          "height": 279
        },
        "outputId": "e579afee-36dc-4744-ea7b-57d92f309ad0"
      },
      "source": [
        "data = {'a': np.arange(50),\n",
        "        'c': np.random.randint(0, 50, 50),\n",
        "        'd': np.random.randn(50)}\n",
        "data['b'] = data['a'] + 10 * np.random.randn(50)\n",
        "data['d'] = np.abs(data['d']) * 100\n",
        "\n",
        "plt.scatter('a', 'b', c='c', s='d', data=data)\n",
        "plt.xlabel('entry a')\n",
        "plt.ylabel('entry b')\n",
        "plt.show()"
      ],
      "execution_count": 3,
      "outputs": [
        {
          "output_type": "display_data",
          "data": {
            "image/png": "[encoded data removed]",
            "text/plain": [
              "<Figure size 432x288 with 1 Axes>"
            ]
          },
          "metadata": {
            "tags": [],
            "needs_background": "light"
          }
        }
      ]
    },
    {
      "cell_type": "code",
      "metadata": {
        "id": "kf8HSWs9q8yI",
        "colab_type": "code",
        "colab": {}
      },
      "source": [
        ""
      ],
      "execution_count": null,
      "outputs": []
    }
  ]
}